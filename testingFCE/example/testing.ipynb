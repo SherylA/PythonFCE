{
 "metadata": {
  "language_info": {
   "codemirror_mode": {
    "name": "ipython",
    "version": 3
   },
   "file_extension": ".py",
   "mimetype": "text/x-python",
   "name": "python",
   "nbconvert_exporter": "python",
   "pygments_lexer": "ipython3",
   "version": "3.8.5"
  },
  "orig_nbformat": 4,
  "kernelspec": {
   "name": "python3",
   "display_name": "Python 3.8.5 64-bit ('base': conda)"
  },
  "interpreter": {
   "hash": "078e819792ca5cdae3762db6ba1f302036aec0f1d18acf7453e0ff85755b57b2"
  }
 },
 "nbformat": 4,
 "nbformat_minor": 2,
 "cells": [
  {
   "cell_type": "code",
   "execution_count": 1,
   "metadata": {},
   "outputs": [],
   "source": [
    "import sys, os"
   ]
  },
  {
   "cell_type": "code",
   "execution_count": 2,
   "metadata": {},
   "outputs": [],
   "source": [
    "sys.path.append(r'../')"
   ]
  },
  {
   "cell_type": "code",
   "execution_count": 3,
   "metadata": {},
   "outputs": [],
   "source": [
    "from testingFCE import testej0"
   ]
  },
  {
   "cell_type": "code",
   "execution_count": 4,
   "metadata": {},
   "outputs": [],
   "source": [
    "t0 = testej0.Exercise(0,1)"
   ]
  },
  {
   "cell_type": "code",
   "execution_count": 5,
   "metadata": {},
   "outputs": [
    {
     "output_type": "stream",
     "name": "stdout",
     "text": [
      "Cargando archivo ubicado en https://raw.githubusercontent.com/SherylA/PythonFCE/master/Datos/Datos_Ejercicio0/grupo_1.txt\n"
     ]
    }
   ],
   "source": [
    "Y, X = t0.chargeData_ej0()"
   ]
  },
  {
   "cell_type": "code",
   "execution_count": 6,
   "metadata": {},
   "outputs": [],
   "source": [
    "def aja(Y,X):\n",
    "    return('lo que sea')"
   ]
  },
  {
   "cell_type": "code",
   "execution_count": 7,
   "metadata": {},
   "outputs": [
    {
     "output_type": "stream",
     "name": "stdout",
     "text": [
      "too many values to unpack (expected 2)\nHaz ingresado una función Success\nLa pendiente es correcta, m = 0.9871224 Failed\nEl intercepto con el eje y es correcto, b = 13.2165551 Skipped\n"
     ]
    },
    {
     "output_type": "display_data",
     "data": {
      "text/plain": "<IPython.core.display.HTML object>",
      "text/html": "\n<!DOCTYPE html>\n<html>\n<head>\n<style>\ntable {\n  font-family: arial, sans-serif;\n  border-collapse: collapse;\n  width: 100%;\n}\n\ntd, th {\n  border: 1px solid #dddddd;\n  text-align: left;\n  padding: 8px;\n}\n\n</style>\n</head>\n<body>\n\n<h2>RESULTADOS</h2>\n\n<table>\n  <tr>\n    <th>Prueba</th>\n    <th>Resultado</th>\n  </tr>\n\n            <tr>\n            <td>Haz ingresado una función</td>\n            <td>Success style=\"background-color:#03AC13;\"</td>\n            </tr>\n\n            <tr>\n            <td>La pendiente es correcta, m = 0.9871224</td>\n            <td>Failed style=\"background-color:#ff6666;\"</td>\n            </tr>\n\n            <tr>\n            <td>El intercepto con el eje y es correcto, b = 13.2165551</td>\n            <td>Skipped style=\"background-color:#ED820E;\"</td>\n            </tr>\n\n</table>\n</body>\n</html>\n"
     },
     "metadata": {}
    }
   ],
   "source": [
    "t0.check_exercise(aja)"
   ]
  },
  {
   "cell_type": "code",
   "execution_count": null,
   "metadata": {},
   "outputs": [],
   "source": []
  }
 ]
}